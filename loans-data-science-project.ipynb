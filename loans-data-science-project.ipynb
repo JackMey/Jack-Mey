{
 "cells": [
  {
   "cell_type": "markdown",
   "metadata": {},
   "source": [
    "# COMP3160: Assignment 1"
   ]
  },
  {
   "cell_type": "markdown",
   "metadata": {},
   "source": [
    "## Introduction"
   ]
  },
  {
   "cell_type": "markdown",
   "metadata": {},
   "source": [
    "The data set 'loans.csv' includes three kinds of customers: those who have paid off their loans (PAIDOFF), those who have been past due and put into collection without paying back their loan and interests (COLLECTION), and those who have paid off only after they were put in collection (COLLECTION_PAIDOFF).\n",
    "\n",
    "**loan_id:** A unique loan (ID) assigned to each loan customers - system generated.\n",
    "<br> **loan_status:** Whether a loan is paid off, in collection process - customer is yet to payoff, or paid off after the collection efforts.\n",
    "<br> **principal:** Basic principal loan amount at the origin.\n",
    "<br> **terms:** Can be weekly (7 days), biweekly, and monthly payoff schedule.\n",
    "<br> **effective_date:** When the loan got originated (started).\n",
    "<br> **due_date:** Due date by which loan should be paid off.\n",
    "<br> **paid_off_time:** Actual time when loan was paid off, null means yet to be paid.\n",
    "<br> **past_due_days:** How many days a loan has past due date.\n",
    "<br> **age:** Age of customer.\n",
    "<br> **education:** Education level of customer who applied for loan.\n",
    "<br> **gender:** Customer gender (male/female).\n",
    "\n",
    "The basic idea of this assignment is to figure out which features are useful for predicting the loan status and then to investigate and compare how well three different classifiers solve this problem. You don't have to implement a complete solution from scratch, but instead you are guided towards this goal via a number of tasks. First you will have to explore the dataset, then clean it up, deal with missing data, visualise the data, convert the categorical values into a suitable numeric form, standardise the features, and then use three different classifiers (logistic regression, k-nearest neighbor, and support vector machine) to get the job done.\n",
    "\n",
    "The assignment is worth 20 marks."
   ]
  },
  {
   "cell_type": "code",
   "execution_count": 436,
   "metadata": {},
   "outputs": [],
   "source": [
    "# import standard libraries\n",
    "import pandas as pd\n",
    "import numpy as np\n",
    "import matplotlib.pyplot as plt\n",
    "import seaborn as sns\n",
    "from sklearn import preprocessing"
   ]
  },
  {
   "cell_type": "markdown",
   "metadata": {},
   "source": [
    "## Exploring the Data"
   ]
  },
  {
   "cell_type": "markdown",
   "metadata": {},
   "source": [
    "**Task 1:** Read the dataset 'loans.csv' into a pandas dataframe and print the first 5 rows of the dataframe [0.25 mark]."
   ]
  },
  {
   "cell_type": "code",
   "execution_count": 437,
   "metadata": {},
   "outputs": [
    {
     "data": {
      "text/html": [
       "<div>\n",
       "<style scoped>\n",
       "    .dataframe tbody tr th:only-of-type {\n",
       "        vertical-align: middle;\n",
       "    }\n",
       "\n",
       "    .dataframe tbody tr th {\n",
       "        vertical-align: top;\n",
       "    }\n",
       "\n",
       "    .dataframe thead th {\n",
       "        text-align: right;\n",
       "    }\n",
       "</style>\n",
       "<table border=\"1\" class=\"dataframe\">\n",
       "  <thead>\n",
       "    <tr style=\"text-align: right;\">\n",
       "      <th></th>\n",
       "      <th>loan_id</th>\n",
       "      <th>loan_status</th>\n",
       "      <th>principal</th>\n",
       "      <th>terms</th>\n",
       "      <th>effective_date</th>\n",
       "      <th>due_date</th>\n",
       "      <th>paid_off_time</th>\n",
       "      <th>past_due_days</th>\n",
       "      <th>age</th>\n",
       "      <th>education</th>\n",
       "      <th>gender</th>\n",
       "    </tr>\n",
       "  </thead>\n",
       "  <tbody>\n",
       "    <tr>\n",
       "      <th>0</th>\n",
       "      <td>xqd20166231</td>\n",
       "      <td>PAIDOFF</td>\n",
       "      <td>1000</td>\n",
       "      <td>30</td>\n",
       "      <td>9/08/2016</td>\n",
       "      <td>10/07/2016</td>\n",
       "      <td>9/14/2016 19:31</td>\n",
       "      <td>NaN</td>\n",
       "      <td>45</td>\n",
       "      <td>high school or below</td>\n",
       "      <td>male</td>\n",
       "    </tr>\n",
       "    <tr>\n",
       "      <th>1</th>\n",
       "      <td>xqd20168902</td>\n",
       "      <td>PAIDOFF</td>\n",
       "      <td>1000</td>\n",
       "      <td>30</td>\n",
       "      <td>9/08/2016</td>\n",
       "      <td>10/07/2016</td>\n",
       "      <td>10/07/2016 9:00</td>\n",
       "      <td>NaN</td>\n",
       "      <td>50</td>\n",
       "      <td>bechalor</td>\n",
       "      <td>female</td>\n",
       "    </tr>\n",
       "    <tr>\n",
       "      <th>2</th>\n",
       "      <td>xqd20160003</td>\n",
       "      <td>PAIDOFF</td>\n",
       "      <td>1000</td>\n",
       "      <td>30</td>\n",
       "      <td>9/08/2016</td>\n",
       "      <td>10/07/2016</td>\n",
       "      <td>9/25/2016 16:58</td>\n",
       "      <td>NaN</td>\n",
       "      <td>33</td>\n",
       "      <td>bechalor</td>\n",
       "      <td>female</td>\n",
       "    </tr>\n",
       "    <tr>\n",
       "      <th>3</th>\n",
       "      <td>xqd20160004</td>\n",
       "      <td>PAIDOFF</td>\n",
       "      <td>1000</td>\n",
       "      <td>15</td>\n",
       "      <td>9/08/2016</td>\n",
       "      <td>9/22/2016</td>\n",
       "      <td>9/22/2016 20:00</td>\n",
       "      <td>NaN</td>\n",
       "      <td>27</td>\n",
       "      <td>college</td>\n",
       "      <td>male</td>\n",
       "    </tr>\n",
       "    <tr>\n",
       "      <th>4</th>\n",
       "      <td>xqd20160005</td>\n",
       "      <td>PAIDOFF</td>\n",
       "      <td>1000</td>\n",
       "      <td>30</td>\n",
       "      <td>9/09/2016</td>\n",
       "      <td>10/08/2016</td>\n",
       "      <td>9/23/2016 21:36</td>\n",
       "      <td>NaN</td>\n",
       "      <td>28</td>\n",
       "      <td>college</td>\n",
       "      <td>female</td>\n",
       "    </tr>\n",
       "  </tbody>\n",
       "</table>\n",
       "</div>"
      ],
      "text/plain": [
       "       loan_id loan_status  principal  terms effective_date    due_date  \\\n",
       "0  xqd20166231     PAIDOFF       1000     30      9/08/2016  10/07/2016   \n",
       "1  xqd20168902     PAIDOFF       1000     30      9/08/2016  10/07/2016   \n",
       "2  xqd20160003     PAIDOFF       1000     30      9/08/2016  10/07/2016   \n",
       "3  xqd20160004     PAIDOFF       1000     15      9/08/2016   9/22/2016   \n",
       "4  xqd20160005     PAIDOFF       1000     30      9/09/2016  10/08/2016   \n",
       "\n",
       "     paid_off_time  past_due_days  age             education  gender  \n",
       "0  9/14/2016 19:31            NaN   45  high school or below    male  \n",
       "1  10/07/2016 9:00            NaN   50              bechalor  female  \n",
       "2  9/25/2016 16:58            NaN   33              bechalor  female  \n",
       "3  9/22/2016 20:00            NaN   27               college    male  \n",
       "4  9/23/2016 21:36            NaN   28               college  female  "
      ]
     },
     "execution_count": 437,
     "metadata": {},
     "output_type": "execute_result"
    }
   ],
   "source": [
    "# read the 'loans.csv' spreadsheet into a pandas dataframe\n",
    "loans = pd.read_csv('loans.csv')\n",
    "# print first 5 rows\n",
    "loans.head()"
   ]
  },
  {
   "cell_type": "markdown",
   "metadata": {},
   "source": [
    "**Task 2:** Print a concise summary for the dataframe with the help of the info() function [0.25 mark]."
   ]
  },
  {
   "cell_type": "code",
   "execution_count": 438,
   "metadata": {
    "scrolled": true
   },
   "outputs": [
    {
     "name": "stdout",
     "output_type": "stream",
     "text": [
      "<class 'pandas.core.frame.DataFrame'>\n",
      "RangeIndex: 500 entries, 0 to 499\n",
      "Data columns (total 11 columns):\n",
      " #   Column          Non-Null Count  Dtype  \n",
      "---  ------          --------------  -----  \n",
      " 0   loan_id         500 non-null    object \n",
      " 1   loan_status     500 non-null    object \n",
      " 2   principal       500 non-null    int64  \n",
      " 3   terms           500 non-null    int64  \n",
      " 4   effective_date  500 non-null    object \n",
      " 5   due_date        500 non-null    object \n",
      " 6   paid_off_time   400 non-null    object \n",
      " 7   past_due_days   200 non-null    float64\n",
      " 8   age             500 non-null    int64  \n",
      " 9   education       500 non-null    object \n",
      " 10  gender          500 non-null    object \n",
      "dtypes: float64(1), int64(3), object(7)\n",
      "memory usage: 43.1+ KB\n"
     ]
    }
   ],
   "source": [
    "# print a concise summary of the loans dataframe\n",
    "loans.info()"
   ]
  },
  {
   "cell_type": "markdown",
   "metadata": {},
   "source": [
    "**Task 3:** Print a descriptive statistics for the dataframe with the help of the describe() function [0.25 mark]."
   ]
  },
  {
   "cell_type": "code",
   "execution_count": 439,
   "metadata": {},
   "outputs": [
    {
     "data": {
      "text/html": [
       "<div>\n",
       "<style scoped>\n",
       "    .dataframe tbody tr th:only-of-type {\n",
       "        vertical-align: middle;\n",
       "    }\n",
       "\n",
       "    .dataframe tbody tr th {\n",
       "        vertical-align: top;\n",
       "    }\n",
       "\n",
       "    .dataframe thead th {\n",
       "        text-align: right;\n",
       "    }\n",
       "</style>\n",
       "<table border=\"1\" class=\"dataframe\">\n",
       "  <thead>\n",
       "    <tr style=\"text-align: right;\">\n",
       "      <th></th>\n",
       "      <th>principal</th>\n",
       "      <th>terms</th>\n",
       "      <th>past_due_days</th>\n",
       "      <th>age</th>\n",
       "    </tr>\n",
       "  </thead>\n",
       "  <tbody>\n",
       "    <tr>\n",
       "      <th>count</th>\n",
       "      <td>500.000000</td>\n",
       "      <td>500.000000</td>\n",
       "      <td>200.00000</td>\n",
       "      <td>500.000000</td>\n",
       "    </tr>\n",
       "    <tr>\n",
       "      <th>mean</th>\n",
       "      <td>943.200000</td>\n",
       "      <td>22.824000</td>\n",
       "      <td>36.01000</td>\n",
       "      <td>31.116000</td>\n",
       "    </tr>\n",
       "    <tr>\n",
       "      <th>std</th>\n",
       "      <td>115.240274</td>\n",
       "      <td>8.000064</td>\n",
       "      <td>29.38088</td>\n",
       "      <td>6.084784</td>\n",
       "    </tr>\n",
       "    <tr>\n",
       "      <th>min</th>\n",
       "      <td>300.000000</td>\n",
       "      <td>7.000000</td>\n",
       "      <td>1.00000</td>\n",
       "      <td>18.000000</td>\n",
       "    </tr>\n",
       "    <tr>\n",
       "      <th>25%</th>\n",
       "      <td>1000.000000</td>\n",
       "      <td>15.000000</td>\n",
       "      <td>3.00000</td>\n",
       "      <td>27.000000</td>\n",
       "    </tr>\n",
       "    <tr>\n",
       "      <th>50%</th>\n",
       "      <td>1000.000000</td>\n",
       "      <td>30.000000</td>\n",
       "      <td>37.00000</td>\n",
       "      <td>30.000000</td>\n",
       "    </tr>\n",
       "    <tr>\n",
       "      <th>75%</th>\n",
       "      <td>1000.000000</td>\n",
       "      <td>30.000000</td>\n",
       "      <td>60.00000</td>\n",
       "      <td>35.000000</td>\n",
       "    </tr>\n",
       "    <tr>\n",
       "      <th>max</th>\n",
       "      <td>1000.000000</td>\n",
       "      <td>30.000000</td>\n",
       "      <td>76.00000</td>\n",
       "      <td>51.000000</td>\n",
       "    </tr>\n",
       "  </tbody>\n",
       "</table>\n",
       "</div>"
      ],
      "text/plain": [
       "         principal       terms  past_due_days         age\n",
       "count   500.000000  500.000000      200.00000  500.000000\n",
       "mean    943.200000   22.824000       36.01000   31.116000\n",
       "std     115.240274    8.000064       29.38088    6.084784\n",
       "min     300.000000    7.000000        1.00000   18.000000\n",
       "25%    1000.000000   15.000000        3.00000   27.000000\n",
       "50%    1000.000000   30.000000       37.00000   30.000000\n",
       "75%    1000.000000   30.000000       60.00000   35.000000\n",
       "max    1000.000000   30.000000       76.00000   51.000000"
      ]
     },
     "execution_count": 439,
     "metadata": {},
     "output_type": "execute_result"
    }
   ],
   "source": [
    "# print descriptive statistics of the dataframe\n",
    "loans.describe()"
   ]
  },
  {
   "cell_type": "markdown",
   "metadata": {},
   "source": [
    "## Cleaning the Data"
   ]
  },
  {
   "cell_type": "markdown",
   "metadata": {},
   "source": [
    "**Task 4:** Fix all typos in the education column of the dataframe with the help of the replace() function [0.25 mark]."
   ]
  },
  {
   "cell_type": "code",
   "execution_count": 440,
   "metadata": {},
   "outputs": [
    {
     "data": {
      "text/plain": [
       "0      high school or below\n",
       "1                  bachelor\n",
       "2                  bachelor\n",
       "3                   college\n",
       "4                   college\n",
       "               ...         \n",
       "495    high school or below\n",
       "496    high school or below\n",
       "497                 college\n",
       "498                 college\n",
       "499    high school or below\n",
       "Name: education, Length: 500, dtype: object"
      ]
     },
     "execution_count": 440,
     "metadata": {},
     "output_type": "execute_result"
    }
   ],
   "source": [
    "# replace the typo in the education column \"bechalor\" with the correct spelling \"bachelor\"\n",
    "loans['education'] = loans['education'].str.replace('bechalor', 'bachelor')\n",
    "# print cleaned column\n",
    "loans['education']"
   ]
  },
  {
   "cell_type": "markdown",
   "metadata": {},
   "source": [
    "**Task 5:** Find the number of missing values for each column using the isna() and sum() function, and print the number for each column [0.25 mark]."
   ]
  },
  {
   "cell_type": "code",
   "execution_count": 441,
   "metadata": {},
   "outputs": [
    {
     "data": {
      "text/plain": [
       "loan_id             0\n",
       "loan_status         0\n",
       "principal           0\n",
       "terms               0\n",
       "effective_date      0\n",
       "due_date            0\n",
       "paid_off_time     100\n",
       "past_due_days     300\n",
       "age                 0\n",
       "education           0\n",
       "gender              0\n",
       "dtype: int64"
      ]
     },
     "execution_count": 441,
     "metadata": {},
     "output_type": "execute_result"
    }
   ],
   "source": [
    "# print number of missing values in each column\n",
    "loans.isna().sum()"
   ]
  },
  {
   "cell_type": "markdown",
   "metadata": {},
   "source": [
    "**Task 6:** Replace all missing values in the 'paid_of_time' column by -1 and all missing values in the 'past_due_days' column by 0 using the fillna() function. Check the number of missing values afterwards by printing them out as before [0.5 mark]."
   ]
  },
  {
   "cell_type": "code",
   "execution_count": 442,
   "metadata": {
    "scrolled": false
   },
   "outputs": [
    {
     "data": {
      "text/plain": [
       "loan_id           0\n",
       "loan_status       0\n",
       "principal         0\n",
       "terms             0\n",
       "effective_date    0\n",
       "due_date          0\n",
       "paid_off_time     0\n",
       "past_due_days     0\n",
       "age               0\n",
       "education         0\n",
       "gender            0\n",
       "dtype: int64"
      ]
     },
     "execution_count": 442,
     "metadata": {},
     "output_type": "execute_result"
    }
   ],
   "source": [
    "# replace missing values\n",
    "loans = loans.fillna(value = {'paid_off_time': -1, 'past_due_days': 0})\n",
    "# print updated number of missing values\n",
    "loans.isna().sum()"
   ]
  },
  {
   "cell_type": "markdown",
   "metadata": {},
   "source": [
    "**Task 7:** Print the first five rows of the dataframe where the value for the 'loan_status' column is 'PAIDOFF' using the loc() function [0.25 mark]."
   ]
  },
  {
   "cell_type": "code",
   "execution_count": 443,
   "metadata": {
    "scrolled": true
   },
   "outputs": [
    {
     "data": {
      "text/html": [
       "<div>\n",
       "<style scoped>\n",
       "    .dataframe tbody tr th:only-of-type {\n",
       "        vertical-align: middle;\n",
       "    }\n",
       "\n",
       "    .dataframe tbody tr th {\n",
       "        vertical-align: top;\n",
       "    }\n",
       "\n",
       "    .dataframe thead th {\n",
       "        text-align: right;\n",
       "    }\n",
       "</style>\n",
       "<table border=\"1\" class=\"dataframe\">\n",
       "  <thead>\n",
       "    <tr style=\"text-align: right;\">\n",
       "      <th></th>\n",
       "      <th>loan_id</th>\n",
       "      <th>loan_status</th>\n",
       "      <th>principal</th>\n",
       "      <th>terms</th>\n",
       "      <th>effective_date</th>\n",
       "      <th>due_date</th>\n",
       "      <th>paid_off_time</th>\n",
       "      <th>past_due_days</th>\n",
       "      <th>age</th>\n",
       "      <th>education</th>\n",
       "      <th>gender</th>\n",
       "    </tr>\n",
       "  </thead>\n",
       "  <tbody>\n",
       "    <tr>\n",
       "      <th>0</th>\n",
       "      <td>xqd20166231</td>\n",
       "      <td>PAIDOFF</td>\n",
       "      <td>1000</td>\n",
       "      <td>30</td>\n",
       "      <td>9/08/2016</td>\n",
       "      <td>10/07/2016</td>\n",
       "      <td>9/14/2016 19:31</td>\n",
       "      <td>0.0</td>\n",
       "      <td>45</td>\n",
       "      <td>high school or below</td>\n",
       "      <td>male</td>\n",
       "    </tr>\n",
       "    <tr>\n",
       "      <th>1</th>\n",
       "      <td>xqd20168902</td>\n",
       "      <td>PAIDOFF</td>\n",
       "      <td>1000</td>\n",
       "      <td>30</td>\n",
       "      <td>9/08/2016</td>\n",
       "      <td>10/07/2016</td>\n",
       "      <td>10/07/2016 9:00</td>\n",
       "      <td>0.0</td>\n",
       "      <td>50</td>\n",
       "      <td>bachelor</td>\n",
       "      <td>female</td>\n",
       "    </tr>\n",
       "    <tr>\n",
       "      <th>2</th>\n",
       "      <td>xqd20160003</td>\n",
       "      <td>PAIDOFF</td>\n",
       "      <td>1000</td>\n",
       "      <td>30</td>\n",
       "      <td>9/08/2016</td>\n",
       "      <td>10/07/2016</td>\n",
       "      <td>9/25/2016 16:58</td>\n",
       "      <td>0.0</td>\n",
       "      <td>33</td>\n",
       "      <td>bachelor</td>\n",
       "      <td>female</td>\n",
       "    </tr>\n",
       "    <tr>\n",
       "      <th>3</th>\n",
       "      <td>xqd20160004</td>\n",
       "      <td>PAIDOFF</td>\n",
       "      <td>1000</td>\n",
       "      <td>15</td>\n",
       "      <td>9/08/2016</td>\n",
       "      <td>9/22/2016</td>\n",
       "      <td>9/22/2016 20:00</td>\n",
       "      <td>0.0</td>\n",
       "      <td>27</td>\n",
       "      <td>college</td>\n",
       "      <td>male</td>\n",
       "    </tr>\n",
       "    <tr>\n",
       "      <th>4</th>\n",
       "      <td>xqd20160005</td>\n",
       "      <td>PAIDOFF</td>\n",
       "      <td>1000</td>\n",
       "      <td>30</td>\n",
       "      <td>9/09/2016</td>\n",
       "      <td>10/08/2016</td>\n",
       "      <td>9/23/2016 21:36</td>\n",
       "      <td>0.0</td>\n",
       "      <td>28</td>\n",
       "      <td>college</td>\n",
       "      <td>female</td>\n",
       "    </tr>\n",
       "  </tbody>\n",
       "</table>\n",
       "</div>"
      ],
      "text/plain": [
       "       loan_id loan_status  principal  terms effective_date    due_date  \\\n",
       "0  xqd20166231     PAIDOFF       1000     30      9/08/2016  10/07/2016   \n",
       "1  xqd20168902     PAIDOFF       1000     30      9/08/2016  10/07/2016   \n",
       "2  xqd20160003     PAIDOFF       1000     30      9/08/2016  10/07/2016   \n",
       "3  xqd20160004     PAIDOFF       1000     15      9/08/2016   9/22/2016   \n",
       "4  xqd20160005     PAIDOFF       1000     30      9/09/2016  10/08/2016   \n",
       "\n",
       "     paid_off_time  past_due_days  age             education  gender  \n",
       "0  9/14/2016 19:31            0.0   45  high school or below    male  \n",
       "1  10/07/2016 9:00            0.0   50              bachelor  female  \n",
       "2  9/25/2016 16:58            0.0   33              bachelor  female  \n",
       "3  9/22/2016 20:00            0.0   27               college    male  \n",
       "4  9/23/2016 21:36            0.0   28               college  female  "
      ]
     },
     "execution_count": 443,
     "metadata": {},
     "output_type": "execute_result"
    }
   ],
   "source": [
    "loans.loc[loans['loan_status'] == 'PAIDOFF'].head()"
   ]
  },
  {
   "cell_type": "markdown",
   "metadata": {},
   "source": [
    "**Task 8:** Print the first five rows of the dataframe where the value for the loan_status column is 'COLLECTION' using the loc() function [0.25 mark]."
   ]
  },
  {
   "cell_type": "code",
   "execution_count": 444,
   "metadata": {
    "scrolled": false
   },
   "outputs": [
    {
     "data": {
      "text/html": [
       "<div>\n",
       "<style scoped>\n",
       "    .dataframe tbody tr th:only-of-type {\n",
       "        vertical-align: middle;\n",
       "    }\n",
       "\n",
       "    .dataframe tbody tr th {\n",
       "        vertical-align: top;\n",
       "    }\n",
       "\n",
       "    .dataframe thead th {\n",
       "        text-align: right;\n",
       "    }\n",
       "</style>\n",
       "<table border=\"1\" class=\"dataframe\">\n",
       "  <thead>\n",
       "    <tr style=\"text-align: right;\">\n",
       "      <th></th>\n",
       "      <th>loan_id</th>\n",
       "      <th>loan_status</th>\n",
       "      <th>principal</th>\n",
       "      <th>terms</th>\n",
       "      <th>effective_date</th>\n",
       "      <th>due_date</th>\n",
       "      <th>paid_off_time</th>\n",
       "      <th>past_due_days</th>\n",
       "      <th>age</th>\n",
       "      <th>education</th>\n",
       "      <th>gender</th>\n",
       "    </tr>\n",
       "  </thead>\n",
       "  <tbody>\n",
       "    <tr>\n",
       "      <th>300</th>\n",
       "      <td>xqd20160301</td>\n",
       "      <td>COLLECTION</td>\n",
       "      <td>1000</td>\n",
       "      <td>15</td>\n",
       "      <td>9/09/2016</td>\n",
       "      <td>9/23/2016</td>\n",
       "      <td>-1</td>\n",
       "      <td>76.0</td>\n",
       "      <td>29</td>\n",
       "      <td>college</td>\n",
       "      <td>male</td>\n",
       "    </tr>\n",
       "    <tr>\n",
       "      <th>301</th>\n",
       "      <td>xqd20160302</td>\n",
       "      <td>COLLECTION</td>\n",
       "      <td>1000</td>\n",
       "      <td>30</td>\n",
       "      <td>9/09/2016</td>\n",
       "      <td>10/08/2016</td>\n",
       "      <td>-1</td>\n",
       "      <td>61.0</td>\n",
       "      <td>37</td>\n",
       "      <td>high school or below</td>\n",
       "      <td>male</td>\n",
       "    </tr>\n",
       "    <tr>\n",
       "      <th>302</th>\n",
       "      <td>xqd20160303</td>\n",
       "      <td>COLLECTION</td>\n",
       "      <td>1000</td>\n",
       "      <td>30</td>\n",
       "      <td>9/09/2016</td>\n",
       "      <td>10/08/2016</td>\n",
       "      <td>-1</td>\n",
       "      <td>61.0</td>\n",
       "      <td>33</td>\n",
       "      <td>high school or below</td>\n",
       "      <td>male</td>\n",
       "    </tr>\n",
       "    <tr>\n",
       "      <th>303</th>\n",
       "      <td>xqd20160304</td>\n",
       "      <td>COLLECTION</td>\n",
       "      <td>800</td>\n",
       "      <td>15</td>\n",
       "      <td>9/09/2016</td>\n",
       "      <td>9/23/2016</td>\n",
       "      <td>-1</td>\n",
       "      <td>76.0</td>\n",
       "      <td>27</td>\n",
       "      <td>college</td>\n",
       "      <td>male</td>\n",
       "    </tr>\n",
       "    <tr>\n",
       "      <th>304</th>\n",
       "      <td>xqd20160305</td>\n",
       "      <td>COLLECTION</td>\n",
       "      <td>800</td>\n",
       "      <td>15</td>\n",
       "      <td>9/09/2016</td>\n",
       "      <td>9/23/2016</td>\n",
       "      <td>-1</td>\n",
       "      <td>76.0</td>\n",
       "      <td>24</td>\n",
       "      <td>bachelor</td>\n",
       "      <td>male</td>\n",
       "    </tr>\n",
       "  </tbody>\n",
       "</table>\n",
       "</div>"
      ],
      "text/plain": [
       "         loan_id loan_status  principal  terms effective_date    due_date  \\\n",
       "300  xqd20160301  COLLECTION       1000     15      9/09/2016   9/23/2016   \n",
       "301  xqd20160302  COLLECTION       1000     30      9/09/2016  10/08/2016   \n",
       "302  xqd20160303  COLLECTION       1000     30      9/09/2016  10/08/2016   \n",
       "303  xqd20160304  COLLECTION        800     15      9/09/2016   9/23/2016   \n",
       "304  xqd20160305  COLLECTION        800     15      9/09/2016   9/23/2016   \n",
       "\n",
       "    paid_off_time  past_due_days  age             education gender  \n",
       "300            -1           76.0   29               college   male  \n",
       "301            -1           61.0   37  high school or below   male  \n",
       "302            -1           61.0   33  high school or below   male  \n",
       "303            -1           76.0   27               college   male  \n",
       "304            -1           76.0   24              bachelor   male  "
      ]
     },
     "execution_count": 444,
     "metadata": {},
     "output_type": "execute_result"
    }
   ],
   "source": [
    "loans.loc[loans['loan_status'] == 'COLLECTION'].head()"
   ]
  },
  {
   "cell_type": "markdown",
   "metadata": {},
   "source": [
    "**Task 9:** Print the data types for each column [0.25 mark]."
   ]
  },
  {
   "cell_type": "code",
   "execution_count": 445,
   "metadata": {},
   "outputs": [
    {
     "data": {
      "text/plain": [
       "loan_id            object\n",
       "loan_status        object\n",
       "principal           int64\n",
       "terms               int64\n",
       "effective_date     object\n",
       "due_date           object\n",
       "paid_off_time      object\n",
       "past_due_days     float64\n",
       "age                 int64\n",
       "education          object\n",
       "gender             object\n",
       "dtype: object"
      ]
     },
     "execution_count": 445,
     "metadata": {},
     "output_type": "execute_result"
    }
   ],
   "source": [
    "# data types for each column\n",
    "loans.dtypes"
   ]
  },
  {
   "cell_type": "markdown",
   "metadata": {},
   "source": [
    "**Task 10:** Convert the columns 'effective_date', 'due_date', and 'paid_off_time' to datetime format and make sure that all three columns show the format YYYY-MM-DD and nothing else (using the to_datetime() function). Print the data types of the converted columns [1 mark]. "
   ]
  },
  {
   "cell_type": "code",
   "execution_count": 446,
   "metadata": {},
   "outputs": [
    {
     "data": {
      "text/plain": [
       "effective_date    datetime64[ns]\n",
       "due_date          datetime64[ns]\n",
       "paid_off_time     datetime64[ns]\n",
       "dtype: object"
      ]
     },
     "execution_count": 446,
     "metadata": {},
     "output_type": "execute_result"
    }
   ],
   "source": [
    "# convert the columns 'effective_date', 'due_date', and 'paid_off_time' to datetime format \n",
    "loans[['effective_date', 'due_date', 'paid_off_time']] = loans[['effective_date', 'due_date', 'paid_off_time']].apply(pd.to_datetime)\n",
    "\n",
    "# get rid of the timestamp on the 'paid_off_time' column\n",
    "loans['paid_off_time'] = loans['paid_off_time'].dt.date\n",
    "loans['paid_off_time'] = loans['paid_off_time'].apply(pd.to_datetime)\n",
    "\n",
    "# print the data types of the converted columns\n",
    "loans[['effective_date', 'due_date', 'paid_off_time']].dtypes"
   ]
  },
  {
   "cell_type": "markdown",
   "metadata": {},
   "source": [
    "## Dealing with Missing Data"
   ]
  },
  {
   "cell_type": "markdown",
   "metadata": {},
   "source": [
    "**Task 11:** Replace all instances of 0 in the 'past_due_days' column by actual values using the information in the dataframe (note that a new value can be a positive number or a negative number or zero) -- the Timedelta() function may be helpful in this process. Print the first 5 rows of the dataframe [1 mark]."
   ]
  },
  {
   "cell_type": "code",
   "execution_count": 447,
   "metadata": {},
   "outputs": [
    {
     "data": {
      "text/html": [
       "<div>\n",
       "<style scoped>\n",
       "    .dataframe tbody tr th:only-of-type {\n",
       "        vertical-align: middle;\n",
       "    }\n",
       "\n",
       "    .dataframe tbody tr th {\n",
       "        vertical-align: top;\n",
       "    }\n",
       "\n",
       "    .dataframe thead th {\n",
       "        text-align: right;\n",
       "    }\n",
       "</style>\n",
       "<table border=\"1\" class=\"dataframe\">\n",
       "  <thead>\n",
       "    <tr style=\"text-align: right;\">\n",
       "      <th></th>\n",
       "      <th>loan_id</th>\n",
       "      <th>loan_status</th>\n",
       "      <th>principal</th>\n",
       "      <th>terms</th>\n",
       "      <th>effective_date</th>\n",
       "      <th>due_date</th>\n",
       "      <th>paid_off_time</th>\n",
       "      <th>past_due_days</th>\n",
       "      <th>age</th>\n",
       "      <th>education</th>\n",
       "      <th>gender</th>\n",
       "    </tr>\n",
       "  </thead>\n",
       "  <tbody>\n",
       "    <tr>\n",
       "      <th>0</th>\n",
       "      <td>xqd20166231</td>\n",
       "      <td>PAIDOFF</td>\n",
       "      <td>1000</td>\n",
       "      <td>30</td>\n",
       "      <td>2016-09-08</td>\n",
       "      <td>2016-10-07</td>\n",
       "      <td>2016-09-14</td>\n",
       "      <td>-23.0</td>\n",
       "      <td>45</td>\n",
       "      <td>high school or below</td>\n",
       "      <td>male</td>\n",
       "    </tr>\n",
       "    <tr>\n",
       "      <th>1</th>\n",
       "      <td>xqd20168902</td>\n",
       "      <td>PAIDOFF</td>\n",
       "      <td>1000</td>\n",
       "      <td>30</td>\n",
       "      <td>2016-09-08</td>\n",
       "      <td>2016-10-07</td>\n",
       "      <td>2016-10-07</td>\n",
       "      <td>0.0</td>\n",
       "      <td>50</td>\n",
       "      <td>bachelor</td>\n",
       "      <td>female</td>\n",
       "    </tr>\n",
       "    <tr>\n",
       "      <th>2</th>\n",
       "      <td>xqd20160003</td>\n",
       "      <td>PAIDOFF</td>\n",
       "      <td>1000</td>\n",
       "      <td>30</td>\n",
       "      <td>2016-09-08</td>\n",
       "      <td>2016-10-07</td>\n",
       "      <td>2016-09-25</td>\n",
       "      <td>-12.0</td>\n",
       "      <td>33</td>\n",
       "      <td>bachelor</td>\n",
       "      <td>female</td>\n",
       "    </tr>\n",
       "    <tr>\n",
       "      <th>3</th>\n",
       "      <td>xqd20160004</td>\n",
       "      <td>PAIDOFF</td>\n",
       "      <td>1000</td>\n",
       "      <td>15</td>\n",
       "      <td>2016-09-08</td>\n",
       "      <td>2016-09-22</td>\n",
       "      <td>2016-09-22</td>\n",
       "      <td>0.0</td>\n",
       "      <td>27</td>\n",
       "      <td>college</td>\n",
       "      <td>male</td>\n",
       "    </tr>\n",
       "    <tr>\n",
       "      <th>4</th>\n",
       "      <td>xqd20160005</td>\n",
       "      <td>PAIDOFF</td>\n",
       "      <td>1000</td>\n",
       "      <td>30</td>\n",
       "      <td>2016-09-09</td>\n",
       "      <td>2016-10-08</td>\n",
       "      <td>2016-09-23</td>\n",
       "      <td>-15.0</td>\n",
       "      <td>28</td>\n",
       "      <td>college</td>\n",
       "      <td>female</td>\n",
       "    </tr>\n",
       "  </tbody>\n",
       "</table>\n",
       "</div>"
      ],
      "text/plain": [
       "       loan_id loan_status  principal  terms effective_date   due_date  \\\n",
       "0  xqd20166231     PAIDOFF       1000     30     2016-09-08 2016-10-07   \n",
       "1  xqd20168902     PAIDOFF       1000     30     2016-09-08 2016-10-07   \n",
       "2  xqd20160003     PAIDOFF       1000     30     2016-09-08 2016-10-07   \n",
       "3  xqd20160004     PAIDOFF       1000     15     2016-09-08 2016-09-22   \n",
       "4  xqd20160005     PAIDOFF       1000     30     2016-09-09 2016-10-08   \n",
       "\n",
       "  paid_off_time  past_due_days  age             education  gender  \n",
       "0    2016-09-14          -23.0   45  high school or below    male  \n",
       "1    2016-10-07            0.0   50              bachelor  female  \n",
       "2    2016-09-25          -12.0   33              bachelor  female  \n",
       "3    2016-09-22            0.0   27               college    male  \n",
       "4    2016-09-23          -15.0   28               college  female  "
      ]
     },
     "execution_count": 447,
     "metadata": {},
     "output_type": "execute_result"
    }
   ],
   "source": [
    "# import datetime and math libraries to ease calculations\n",
    "import datetime\n",
    "import math\n",
    "\n",
    "# loop through all records where 'loan_status' is PAIDOFF\n",
    "for k in range(len(loans[loans['loan_status'] == \"PAIDOFF\"])):\n",
    "    # with all these paid off loan records, calculate the differences between the effective_date from due_date\n",
    "    temp = loans.loc[k,'due_date'] - loans.loc[k,'effective_date'] + datetime.timedelta(days = 1)\n",
    "    # if this difference exceeds the number of loan terms, the due date is the effective data + no. of terms\n",
    "    # and update this in the dataset\n",
    "    if(int(temp / datetime.timedelta(days=1)) > loans.loc[k, 'terms']):\n",
    "         loans.loc[k, 'due_date'] = loans.loc[k, 'effective_date'] + (loans.loc[k, 'terms'])*datetime.timedelta(days = 1)\n",
    "\n",
    "# now iterate through all records where 'loan_status' is PAIDOFF again\n",
    "for k in range(len(loans[loans['loan_status'] == \"PAIDOFF\"])):\n",
    "    # with all these same records, calculate the number of past due days by subtracting the due date from paid off time\n",
    "    # and update this value in the dataset\n",
    "    temp = loans.loc[k, 'paid_off_time'] - loans.loc[k,'due_date']\n",
    "    loans.loc[k, 'past_due_days'] = int(math.floor(temp / datetime.timedelta(days=1)))\n",
    "\n",
    "# print the first 5 rows of this amended dataset \n",
    "loans.head()"
   ]
  },
  {
   "cell_type": "markdown",
   "metadata": {},
   "source": [
    "## Visualising the Data"
   ]
  },
  {
   "cell_type": "markdown",
   "metadata": {},
   "source": [
    "**Task 12:** Use a seaborn count plot to plot the relationship between 'age' and 'loan_status'; make sure that your plot looks identical to the one below, incl. legend [1 mark]."
   ]
  },
  {
   "cell_type": "code",
   "execution_count": 448,
   "metadata": {},
   "outputs": [
    {
     "data": {
      "image/png": "[encoded data removed]",
      "text/plain": [
       "<Figure size 720x360 with 1 Axes>"
      ]
     },
     "metadata": {
      "needs_background": "light"
     },
     "output_type": "display_data"
    }
   ],
   "source": [
    "# import seaborn library for graphs\n",
    "import seaborn as sns\n",
    "\n",
    "# enlarge figure size\n",
    "plt.figure(figsize=(10, 5))\n",
    "\n",
    "# plot countplot for 'age' and 'loan_status' with necessary graph features\n",
    "fig = sns.countplot(x=\"age\", data=loans, hue=\"loan_status\", palette=\"Set1\")\n",
    "plt.legend(title=\"Loan Status\", loc=\"upper right\", labels=[\"PAIDOFF\", \"COLLECTION\", \"COLLECTION_PAIDOFF\"])\n",
    "fig.set(xlabel=\"Age\", ylabel=\"Count\")\n",
    "plt.show(fig)"
   ]
  },
  {
   "cell_type": "markdown",
   "metadata": {},
   "source": [
    "**Task 13:** Use a seaborn count plot to plot the relationship between 'eduation' and 'loan_status'; make sure that your plot looks identical to the one below, incl. legend  [1 mark]."
   ]
  },
  {
   "cell_type": "code",
   "execution_count": 449,
   "metadata": {},
   "outputs": [
    {
     "data": {
      "text/plain": [
       "[Text(0, 0.5, 'Count'), Text(0.5, 0, 'Education')]"
      ]
     },
     "execution_count": 449,
     "metadata": {},
     "output_type": "execute_result"
    },
    {
     "data": {
      "image/png": "[encoded data removed]",
      "text/plain": [
       "<Figure size 720x360 with 1 Axes>"
      ]
     },
     "metadata": {
      "needs_background": "light"
     },
     "output_type": "display_data"
    }
   ],
   "source": [
    "# enlarge figure size\n",
    "plt.figure(figsize=(10, 5))\n",
    "\n",
    "# plot countplot for 'education' and 'loan_status' with necessary graph features\n",
    "fig = sns.countplot(x=\"education\", data=loans, hue=\"loan_status\", palette=\"Set1\")\n",
    "plt.legend(title=\"Loan Status\", loc=\"upper right\", labels=[\"PAIDOFF\", \"COLLECTION\", \"COLLECTION_PAIDOFF\"])\n",
    "fig.set(xlabel=\"Education\", ylabel=\"Count\")"
   ]
  },
  {
   "cell_type": "markdown",
   "metadata": {},
   "source": [
    "**Task 14:** Use a seaborn count plot to plot the relationship between 'gender' and 'loan_status'; make sure that your plot looks identical to the one below, incl. legend [1 mark]."
   ]
  },
  {
   "cell_type": "code",
   "execution_count": 450,
   "metadata": {},
   "outputs": [
    {
     "data": {
      "text/plain": [
       "[Text(0, 0.5, 'Count'), Text(0.5, 0, 'Gender')]"
      ]
     },
     "execution_count": 450,
     "metadata": {},
     "output_type": "execute_result"
    },
    {
     "data": {
      "image/png": "[encoded data removed]",
      "text/plain": [
       "<Figure size 720x360 with 1 Axes>"
      ]
     },
     "metadata": {
      "needs_background": "light"
     },
     "output_type": "display_data"
    }
   ],
   "source": [
    "# enlarge figure size\n",
    "plt.figure(figsize=(10, 5))\n",
    "\n",
    "# plot countplot for 'gender' and 'loan_status' with necessary graph features\n",
    "fig = sns.countplot(x=\"gender\", data=loans, hue=\"loan_status\", palette=\"Set1\")\n",
    "plt.legend(title=\"Loan Status\", loc=\"upper right\", labels=[\"PAIDOFF\", \"COLLECTION\", \"COLLECTION_PAIDOFF\"])\n",
    "fig.set(xlabel=\"Gender\", ylabel=\"Count\")"
   ]
  },
  {
   "cell_type": "markdown",
   "metadata": {},
   "source": [
    "**Task 15:** Use a seaborn count plot to plot the relationship between 'principal' and 'loan_status'; make sure that your plot looks identical to the one below, incl. legend [1 mark]."
   ]
  },
  {
   "cell_type": "code",
   "execution_count": 451,
   "metadata": {},
   "outputs": [
    {
     "data": {
      "text/plain": [
       "[Text(0, 0.5, 'Count'), Text(0.5, 0, 'Principal')]"
      ]
     },
     "execution_count": 451,
     "metadata": {},
     "output_type": "execute_result"
    },
    {
     "data": {
      "image/png": "[encoded data removed]",
      "text/plain": [
       "<Figure size 720x360 with 1 Axes>"
      ]
     },
     "metadata": {
      "needs_background": "light"
     },
     "output_type": "display_data"
    }
   ],
   "source": [
    "# enlarge figure size\n",
    "plt.figure(figsize=(10, 5))\n",
    "\n",
    "# plot countplot for 'principal' and 'loan_status' with necessary graph features\n",
    "fig = sns.countplot(x=\"principal\", data=loans, hue=\"loan_status\", palette=\"Set1\")\n",
    "plt.legend(title=\"Loan Status\", loc=\"upper left\", labels=[\"PAIDOFF\", \"COLLECTION\", \"COLLECTION_PAIDOFF\"])\n",
    "fig.set(xlabel=\"Principal\", ylabel=\"Count\")"
   ]
  },
  {
   "cell_type": "markdown",
   "metadata": {},
   "source": [
    "**Task 16:** Use a seaborn count plot to plot the relationship between 'terms' and 'loan_status'; make sure that your plot looks identical to the one below, incl. legend [1 mark]."
   ]
  },
  {
   "cell_type": "code",
   "execution_count": 452,
   "metadata": {},
   "outputs": [
    {
     "data": {
      "text/plain": [
       "[Text(0, 0.5, 'Count'), Text(0.5, 0, 'Terms')]"
      ]
     },
     "execution_count": 452,
     "metadata": {},
     "output_type": "execute_result"
    },
    {
     "data": {
      "image/png": "[encoded data removed]",
      "text/plain": [
       "<Figure size 720x360 with 1 Axes>"
      ]
     },
     "metadata": {
      "needs_background": "light"
     },
     "output_type": "display_data"
    }
   ],
   "source": [
    "# enlarge figure size\n",
    "plt.figure(figsize=(10, 5))\n",
    "\n",
    "# plot countplot for 'terms' and 'loan_status' with necessary graph features\n",
    "fig = sns.countplot(x=\"terms\", data=loans, hue=\"loan_status\", palette=\"Set1\")\n",
    "plt.legend(title=\"Loan Status\", loc=\"upper left\", labels=[\"PAIDOFF\", \"COLLECTION\", \"COLLECTION_PAIDOFF\"])\n",
    "fig.set(xlabel=\"Terms\", ylabel=\"Count\")"
   ]
  },
  {
   "cell_type": "markdown",
   "metadata": {},
   "source": [
    "**Task 17:** Use a seaborn boxplot to plot the relationship between 'loan_status' and 'past_due_days'; make sure that your plot looks identical to the one below [1 mark]."
   ]
  },
  {
   "cell_type": "code",
   "execution_count": 453,
   "metadata": {},
   "outputs": [
    {
     "data": {
      "text/plain": [
       "[Text(0, 0.5, 'Past Due Days'), Text(0.5, 0, 'Loan Status')]"
      ]
     },
     "execution_count": 453,
     "metadata": {},
     "output_type": "execute_result"
    },
    {
     "data": {
      "image/png": "[encoded data removed]",
      "text/plain": [
       "<Figure size 720x360 with 1 Axes>"
      ]
     },
     "metadata": {
      "needs_background": "light"
     },
     "output_type": "display_data"
    }
   ],
   "source": [
    "# enlarge figure size\n",
    "plt.figure(figsize=(10, 5))\n",
    "\n",
    "# plot boxplot for 'past_due_dats' and 'loan_status' with necessary graph features\n",
    "fig = sns.boxplot(x=\"loan_status\", y=\"past_due_days\", data=loans, palette=\"Set1\")\n",
    "fig.set(xlabel=\"Loan Status\", ylabel=\"Past Due Days\")"
   ]
  },
  {
   "cell_type": "markdown",
   "metadata": {},
   "source": [
    "## Converting Categorical Values"
   ]
  },
  {
   "cell_type": "markdown",
   "metadata": {},
   "source": [
    "**Task 18:** Use one hot encoding to convert categorical values into numeric values and generate a dataframe that contains the following features: 'principal', 'terms', 'past_due_days', 'age', 'gender', 'bachelor', 'college', and 'high school or below' [1.5 marks]."
   ]
  },
  {
   "cell_type": "code",
   "execution_count": 454,
   "metadata": {},
   "outputs": [
    {
     "data": {
      "text/html": [
       "<div>\n",
       "<style scoped>\n",
       "    .dataframe tbody tr th:only-of-type {\n",
       "        vertical-align: middle;\n",
       "    }\n",
       "\n",
       "    .dataframe tbody tr th {\n",
       "        vertical-align: top;\n",
       "    }\n",
       "\n",
       "    .dataframe thead th {\n",
       "        text-align: right;\n",
       "    }\n",
       "</style>\n",
       "<table border=\"1\" class=\"dataframe\">\n",
       "  <thead>\n",
       "    <tr style=\"text-align: right;\">\n",
       "      <th></th>\n",
       "      <th>principal</th>\n",
       "      <th>terms</th>\n",
       "      <th>past_due_days</th>\n",
       "      <th>age</th>\n",
       "      <th>gender</th>\n",
       "      <th>bachelor</th>\n",
       "      <th>college</th>\n",
       "      <th>high school or below</th>\n",
       "    </tr>\n",
       "  </thead>\n",
       "  <tbody>\n",
       "    <tr>\n",
       "      <th>0</th>\n",
       "      <td>1000</td>\n",
       "      <td>30</td>\n",
       "      <td>-23.0</td>\n",
       "      <td>45</td>\n",
       "      <td>1</td>\n",
       "      <td>0</td>\n",
       "      <td>0</td>\n",
       "      <td>1</td>\n",
       "    </tr>\n",
       "    <tr>\n",
       "      <th>1</th>\n",
       "      <td>1000</td>\n",
       "      <td>30</td>\n",
       "      <td>0.0</td>\n",
       "      <td>50</td>\n",
       "      <td>0</td>\n",
       "      <td>1</td>\n",
       "      <td>0</td>\n",
       "      <td>0</td>\n",
       "    </tr>\n",
       "    <tr>\n",
       "      <th>2</th>\n",
       "      <td>1000</td>\n",
       "      <td>30</td>\n",
       "      <td>-12.0</td>\n",
       "      <td>33</td>\n",
       "      <td>0</td>\n",
       "      <td>1</td>\n",
       "      <td>0</td>\n",
       "      <td>0</td>\n",
       "    </tr>\n",
       "    <tr>\n",
       "      <th>3</th>\n",
       "      <td>1000</td>\n",
       "      <td>15</td>\n",
       "      <td>0.0</td>\n",
       "      <td>27</td>\n",
       "      <td>1</td>\n",
       "      <td>0</td>\n",
       "      <td>1</td>\n",
       "      <td>0</td>\n",
       "    </tr>\n",
       "    <tr>\n",
       "      <th>4</th>\n",
       "      <td>1000</td>\n",
       "      <td>30</td>\n",
       "      <td>-15.0</td>\n",
       "      <td>28</td>\n",
       "      <td>0</td>\n",
       "      <td>0</td>\n",
       "      <td>1</td>\n",
       "      <td>0</td>\n",
       "    </tr>\n",
       "    <tr>\n",
       "      <th>...</th>\n",
       "      <td>...</td>\n",
       "      <td>...</td>\n",
       "      <td>...</td>\n",
       "      <td>...</td>\n",
       "      <td>...</td>\n",
       "      <td>...</td>\n",
       "      <td>...</td>\n",
       "      <td>...</td>\n",
       "    </tr>\n",
       "    <tr>\n",
       "      <th>495</th>\n",
       "      <td>1000</td>\n",
       "      <td>30</td>\n",
       "      <td>3.0</td>\n",
       "      <td>28</td>\n",
       "      <td>1</td>\n",
       "      <td>0</td>\n",
       "      <td>0</td>\n",
       "      <td>1</td>\n",
       "    </tr>\n",
       "    <tr>\n",
       "      <th>496</th>\n",
       "      <td>1000</td>\n",
       "      <td>15</td>\n",
       "      <td>14.0</td>\n",
       "      <td>26</td>\n",
       "      <td>1</td>\n",
       "      <td>0</td>\n",
       "      <td>0</td>\n",
       "      <td>1</td>\n",
       "    </tr>\n",
       "    <tr>\n",
       "      <th>497</th>\n",
       "      <td>800</td>\n",
       "      <td>15</td>\n",
       "      <td>3.0</td>\n",
       "      <td>30</td>\n",
       "      <td>1</td>\n",
       "      <td>0</td>\n",
       "      <td>1</td>\n",
       "      <td>0</td>\n",
       "    </tr>\n",
       "    <tr>\n",
       "      <th>498</th>\n",
       "      <td>1000</td>\n",
       "      <td>30</td>\n",
       "      <td>1.0</td>\n",
       "      <td>38</td>\n",
       "      <td>0</td>\n",
       "      <td>0</td>\n",
       "      <td>1</td>\n",
       "      <td>0</td>\n",
       "    </tr>\n",
       "    <tr>\n",
       "      <th>499</th>\n",
       "      <td>1000</td>\n",
       "      <td>30</td>\n",
       "      <td>8.0</td>\n",
       "      <td>28</td>\n",
       "      <td>1</td>\n",
       "      <td>0</td>\n",
       "      <td>0</td>\n",
       "      <td>1</td>\n",
       "    </tr>\n",
       "  </tbody>\n",
       "</table>\n",
       "<p>500 rows × 8 columns</p>\n",
       "</div>"
      ],
      "text/plain": [
       "     principal  terms  past_due_days  age  gender  bachelor  college  \\\n",
       "0         1000     30          -23.0   45       1         0        0   \n",
       "1         1000     30            0.0   50       0         1        0   \n",
       "2         1000     30          -12.0   33       0         1        0   \n",
       "3         1000     15            0.0   27       1         0        1   \n",
       "4         1000     30          -15.0   28       0         0        1   \n",
       "..         ...    ...            ...  ...     ...       ...      ...   \n",
       "495       1000     30            3.0   28       1         0        0   \n",
       "496       1000     15           14.0   26       1         0        0   \n",
       "497        800     15            3.0   30       1         0        1   \n",
       "498       1000     30            1.0   38       0         0        1   \n",
       "499       1000     30            8.0   28       1         0        0   \n",
       "\n",
       "     high school or below  \n",
       "0                       1  \n",
       "1                       0  \n",
       "2                       0  \n",
       "3                       0  \n",
       "4                       0  \n",
       "..                    ...  \n",
       "495                     1  \n",
       "496                     1  \n",
       "497                     0  \n",
       "498                     0  \n",
       "499                     1  \n",
       "\n",
       "[500 rows x 8 columns]"
      ]
     },
     "execution_count": 454,
     "metadata": {},
     "output_type": "execute_result"
    }
   ],
   "source": [
    "# generate dataframe with one hot encoded variables for 'education'\n",
    "education_OHE = pd.get_dummies(loans.education)\n",
    "\n",
    "# remove master or above\n",
    "education_selected = education_OHE[['bachelor', 'college', 'high school or below']]\n",
    "\n",
    "# replace values in the gender column of the loans dataframe: male = 1, female = 0\n",
    "loans['gender'] = loans['gender'].map(dict(zip(['male','female'],[1,0])))\n",
    "\n",
    "# select required features\n",
    "selected = loans[['principal', 'terms', 'past_due_days', 'age', 'gender']]\n",
    "\n",
    "# merge selected features with the new one hot encoded education dataframe\n",
    "data = pd.concat([selected, education_selected], axis=1)\n",
    "\n",
    "# print finished dataset\n",
    "data"
   ]
  },
  {
   "cell_type": "markdown",
   "metadata": {},
   "source": [
    "**Task 19:** Use one hot encoding to convert the categorical values for the 'loan_status' label into numerical values [0.5 mark]."
   ]
  },
  {
   "cell_type": "code",
   "execution_count": 455,
   "metadata": {},
   "outputs": [
    {
     "name": "stdout",
     "output_type": "stream",
     "text": [
      "0      2\n",
      "1      2\n",
      "2      2\n",
      "3      2\n",
      "4      2\n",
      "      ..\n",
      "495    1\n",
      "496    1\n",
      "497    1\n",
      "498    1\n",
      "499    1\n",
      "Name: loan_status, Length: 500, dtype: int64\n"
     ]
    }
   ],
   "source": [
    "# Change 'loan_status' values using one hot encoding: COLLECTION = 0, COLLECTION_PAIDOFF = 1, PAIDOFF = 2\n",
    "loans['loan_status'] = loans['loan_status'].map(dict(zip(['COLLECTION','COLLECTION_PAIDOFF', \"PAIDOFF\"],[0,1,2])))\n",
    "\n",
    "# print transformed 'loan_status' column\n",
    "print(loans['loan_status'])"
   ]
  },
  {
   "cell_type": "markdown",
   "metadata": {},
   "source": [
    "## Standardising Features"
   ]
  },
  {
   "cell_type": "markdown",
   "metadata": {},
   "source": [
    "**Task 20:** Use the StandardScaler class from sklearn.preprocessing to scale the features and then display the first 5 rows [0.5 mark]."
   ]
  },
  {
   "cell_type": "code",
   "execution_count": 456,
   "metadata": {},
   "outputs": [
    {
     "data": {
      "text/plain": [
       "array([[ 0.49337687,  0.89789115, -1.36149001,  2.28404253,  0.42665337,\n",
       "        -0.39336295, -0.88640526,  1.17997648],\n",
       "       [ 0.49337687,  0.89789115, -0.50581534,  3.10658738, -2.34382305,\n",
       "         2.54218146, -0.88640526, -0.84747452],\n",
       "       [ 0.49337687,  0.89789115, -0.95225429,  0.3099349 , -2.34382305,\n",
       "         2.54218146, -0.88640526, -0.84747452],\n",
       "       [ 0.49337687, -0.97897162, -0.50581534, -0.67711892,  0.42665337,\n",
       "        -0.39336295,  1.12815215, -0.84747452],\n",
       "       [ 0.49337687,  0.89789115, -1.06386403, -0.51260995, -2.34382305,\n",
       "        -0.39336295,  1.12815215, -0.84747452]])"
      ]
     },
     "execution_count": 456,
     "metadata": {},
     "output_type": "execute_result"
    }
   ],
   "source": [
    "# import StandardScaler class from sklearn.preprocessing\n",
    "from sklearn.preprocessing import StandardScaler\n",
    "\n",
    "# create scaler\n",
    "scaler = StandardScaler()\n",
    "\n",
    "# apply scaler to the dataset\n",
    "scaler.fit(data)\n",
    "scaled_data = scaler.transform(data)\n",
    "\n",
    "# print first 5 rows of scaled dataset\n",
    "scaled_data[0:5, :]"
   ]
  },
  {
   "cell_type": "markdown",
   "metadata": {},
   "source": [
    "## Train/Test Split"
   ]
  },
  {
   "cell_type": "markdown",
   "metadata": {},
   "source": [
    "**Task 21:** Import the train_test_split function from sklearn.model_selection, split the data into a training set (80%) and a test set (20%) with random state set to 42, print the shape of the training set and the test set [1 mark]."
   ]
  },
  {
   "cell_type": "code",
   "execution_count": 457,
   "metadata": {},
   "outputs": [
    {
     "name": "stdout",
     "output_type": "stream",
     "text": [
      "Training set: (400, 8) (400,)\n",
      "Test set: (100, 8) (100,)\n"
     ]
    }
   ],
   "source": [
    "# import train_test_split function from sklearn.model_selection\n",
    "from sklearn.model_selection import train_test_split\n",
    "\n",
    "# split the data: features ('principal', 'terms', 'past_due_days', 'age', 'gender', 'bachelor', 'college',\n",
    "# and 'high school or below') = X, loan_status = y into 80% training and 20% testing datasets\n",
    "train_X, test_X, train_y, test_y = train_test_split(\n",
    "    scaled_data, loans['loan_status'], test_size=0.20,random_state=42)\n",
    "\n",
    "# print the shape the training and set datasets\n",
    "print(\"Training set:\",train_X.shape,train_y.shape)\n",
    "print(\"Test set:\",test_X.shape,test_y.shape)"
   ]
  },
  {
   "cell_type": "markdown",
   "metadata": {},
   "source": [
    "## Fitting and Scoring the Models"
   ]
  },
  {
   "cell_type": "markdown",
   "metadata": {},
   "source": [
    "**Task 22:** Import the LogisticRegression class from sklearn.linear_model, create an instance, fit the model, and report the training score and the testing score [1 mark]."
   ]
  },
  {
   "cell_type": "code",
   "execution_count": 458,
   "metadata": {},
   "outputs": [
    {
     "name": "stdout",
     "output_type": "stream",
     "text": [
      "Train Score: 0.79\n",
      "Test Score: 0.78\n"
     ]
    }
   ],
   "source": [
    "# import LogisticRegession library from sklearn.model_selection\n",
    "from sklearn.linear_model import LogisticRegression\n",
    "\n",
    "# create logistic regressor\n",
    "lr = LogisticRegression()\n",
    "\n",
    "# apply to the logistic regressor to the training datasets\n",
    "lr.fit(train_X, train_y)\n",
    "\n",
    "# score the training and testing datasets accuracy based on the logistic regression model\n",
    "lr_train_score = lr.score(train_X, train_y)\n",
    "lr_test_score = lr.score(test_X, test_y)\n",
    "\n",
    "# print the training and testing accuracies\n",
    "print(\"Train Score:\",lr_train_score)\n",
    "print(\"Test Score:\", lr_test_score)"
   ]
  },
  {
   "cell_type": "markdown",
   "metadata": {},
   "source": [
    "**Task 23:** Use the KNeighborsClassifier class from sklearn.neighbors, set k to 7, create an instance, fit the model, and report the training score and the testing score [1 mark]."
   ]
  },
  {
   "cell_type": "code",
   "execution_count": 459,
   "metadata": {},
   "outputs": [
    {
     "name": "stdout",
     "output_type": "stream",
     "text": [
      "Train Score: 0.82\n",
      "Test Score: 0.73\n"
     ]
    }
   ],
   "source": [
    "#import knearest neighbors classifier library from sklearn.neighbors\n",
    "from sklearn.neighbors import KNeighborsClassifier\n",
    "\n",
    "# create KNN Classifier\n",
    "knn = KNeighborsClassifier(n_neighbors=7)\n",
    "\n",
    "# apply to the KNN Classifier to the training datasets\n",
    "knn.fit(train_X, train_y)\n",
    "\n",
    "# score & print the training and testing datasets accuracy based on the KNN Classifier model\n",
    "print(\"Train Score:\",knn.score(train_X, train_y))\n",
    "print(\"Test Score:\",knn.score(test_X, test_y))"
   ]
  },
  {
   "cell_type": "markdown",
   "metadata": {},
   "source": [
    "**Task 24:** Find the best (non-overfitting) value for k in the range between 1 and 100 for the k-nearest neighbor classifier and plot the testing accuracy and the training accuracy  [1,5 marks]."
   ]
  },
  {
   "cell_type": "code",
   "execution_count": 460,
   "metadata": {},
   "outputs": [],
   "source": [
    "# set up a variable storing the range of possible k values (1-100)\n",
    "k_range = range(1, 101)\n",
    "\n",
    "# create Python dictionary using [] to store the testing and training accuracy scores\n",
    "training_scores = []\n",
    "test_scores = []\n",
    "\n",
    "\n",
    "# loop through the range 1 to 100\n",
    "for k in k_range:\n",
    "    # iterate through each k Classifer and create a KNN Classifier using each k\n",
    "    knn = KNeighborsClassifier(n_neighbors=k)\n",
    "    # apply the KNN Classifier to the training datasets\n",
    "    knn.fit(train_X, train_y)\n",
    "    # add the training and testings scores to the created dictionaries\n",
    "    training_scores.append(knn.score(train_X, train_y))\n",
    "    test_scores.append(knn.score(test_X, test_y))"
   ]
  },
  {
   "cell_type": "code",
   "execution_count": 461,
   "metadata": {},
   "outputs": [
    {
     "data": {
      "text/plain": [
       "<matplotlib.legend.Legend at 0x2528b8a8608>"
      ]
     },
     "execution_count": 461,
     "metadata": {},
     "output_type": "execute_result"
    },
    {
     "data": {
      "image/png": "[encoded data removed]",
      "text/plain": [
       "<Figure size 432x288 with 1 Axes>"
      ]
     },
     "metadata": {
      "needs_background": "light"
     },
     "output_type": "display_data"
    }
   ],
   "source": [
    "# plot the relationship between the number of neighbours (k) and the training and testing accuracy\n",
    "plt.plot(k_range, test_scores, label='Testing Accuracy')\n",
    "plt.plot(k_range, training_scores, label='Training Accuracy')\n",
    "# create graph axis labels and legend\n",
    "plt.xlabel('Number of Neighbours')\n",
    "plt.ylabel('Accuracy')\n",
    "plt.legend()"
   ]
  },
  {
   "cell_type": "markdown",
   "metadata": {},
   "source": [
    "From the above graph, the testing accuracy is heighest at k=1 and k=2, but this is a very small number of neighbours. After these two values, the trend declines and only starts to increase at k=11. The testing accuracy peaks just before k=20 and just after k=20 and then mostly declines as the number of neighbours continue to increase. Therefore, the values after k=2 that have the highest testing accuracy are k=17 and k=21 respectively. Consequently, the best (non-overfitting) value for k in the range between 1 and 100 for the k-nearest neighbor classifier is k=17. This is because although it has the same testing accuracy as k=21, k=17 is a lower number of neighbours, meaning it is not as over-fitted as k=21."
   ]
  },
  {
   "cell_type": "markdown",
   "metadata": {},
   "source": [
    "**Task 25**: Now run the k-nearest neighbor classifier again with the best value that you got for k on the test data, and report the training score and the testing score [0.5 mark]."
   ]
  },
  {
   "cell_type": "code",
   "execution_count": 462,
   "metadata": {},
   "outputs": [
    {
     "name": "stdout",
     "output_type": "stream",
     "text": [
      "Train Score: 0.7875\n",
      "Test Score: 0.77\n"
     ]
    }
   ],
   "source": [
    "# Your code goes here.\n",
    "#Import knearest neighbors Classifier model\n",
    "from sklearn.neighbors import KNeighborsClassifier\n",
    "\n",
    "#Create KNN Classifier\n",
    "knn = KNeighborsClassifier(n_neighbors=17)\n",
    "\n",
    "#Train the model using the training sets\n",
    "knn.fit(train_X, train_y)\n",
    "\n",
    "# score the training and testing datasets accuracy based on the knearest neighbours Classifier model\n",
    "# store these accuracy scores as variables for task 27\n",
    "knn_train_score = knn.score(train_X, train_y)\n",
    "knn_test_score = knn.score(test_X, test_y)\n",
    "\n",
    "# print training and testing accuracy scores\n",
    "print(\"Train Score:\", knn_train_score)\n",
    "print(\"Test Score:\", knn_test_score)"
   ]
  },
  {
   "cell_type": "markdown",
   "metadata": {},
   "source": [
    "**Task 26:** Import the SVC class from sklearn.svm, create an instance using a linear kernel and set the hyperparameter C to 1, fit the model, and report the training ant testing score [1 mark]."
   ]
  },
  {
   "cell_type": "code",
   "execution_count": 463,
   "metadata": {},
   "outputs": [
    {
     "name": "stdout",
     "output_type": "stream",
     "text": [
      "Train Score: 0.795\n",
      "Test Score: 0.78\n"
     ]
    }
   ],
   "source": [
    "# import svm (Support Vector Machines) library from sklearn.svn\n",
    "from sklearn import svm\n",
    "\n",
    "\n",
    "svm_model = svm.SVC(kernel='linear', C = 1.0)\n",
    "svm_model.fit(train_X, train_y)\n",
    "\n",
    "# score the training and testing datasets accuracy based on the Support Vector Machines (SVM) model\n",
    "# store these accuracy scores as variables for task 27\n",
    "svm_train_score = svm_model.score(train_X, train_y)\n",
    "svm_test_score = svm_model.score(test_X, test_y)\n",
    "\n",
    "# print training and testing accuracy scores\n",
    "print(\"Train Score:\",svm_train_score)\n",
    "print(\"Test Score:\",svm_test_score)"
   ]
  },
  {
   "cell_type": "markdown",
   "metadata": {},
   "source": [
    "## Comparing the Models"
   ]
  },
  {
   "cell_type": "markdown",
   "metadata": {},
   "source": [
    "**Task 27:** In order to compare the models, generate a dataframe with the model name, training score and the testing score as column names and display that dataframe [1 mark]."
   ]
  },
  {
   "cell_type": "code",
   "execution_count": 464,
   "metadata": {},
   "outputs": [
    {
     "data": {
      "text/html": [
       "<div>\n",
       "<style scoped>\n",
       "    .dataframe tbody tr th:only-of-type {\n",
       "        vertical-align: middle;\n",
       "    }\n",
       "\n",
       "    .dataframe tbody tr th {\n",
       "        vertical-align: top;\n",
       "    }\n",
       "\n",
       "    .dataframe thead th {\n",
       "        text-align: right;\n",
       "    }\n",
       "</style>\n",
       "<table border=\"1\" class=\"dataframe\">\n",
       "  <thead>\n",
       "    <tr style=\"text-align: right;\">\n",
       "      <th></th>\n",
       "      <th>Model</th>\n",
       "      <th>Training Score</th>\n",
       "      <th>Testing Score</th>\n",
       "    </tr>\n",
       "  </thead>\n",
       "  <tbody>\n",
       "    <tr>\n",
       "      <th>0</th>\n",
       "      <td>Logistic Regression</td>\n",
       "      <td>0.7900</td>\n",
       "      <td>0.78</td>\n",
       "    </tr>\n",
       "    <tr>\n",
       "      <th>1</th>\n",
       "      <td>K-Nearest Neighbour</td>\n",
       "      <td>0.7875</td>\n",
       "      <td>0.77</td>\n",
       "    </tr>\n",
       "    <tr>\n",
       "      <th>2</th>\n",
       "      <td>Support Vector Machine</td>\n",
       "      <td>0.7950</td>\n",
       "      <td>0.78</td>\n",
       "    </tr>\n",
       "  </tbody>\n",
       "</table>\n",
       "</div>"
      ],
      "text/plain": [
       "                    Model  Training Score  Testing Score\n",
       "0     Logistic Regression          0.7900           0.78\n",
       "1     K-Nearest Neighbour          0.7875           0.77\n",
       "2  Support Vector Machine          0.7950           0.78"
      ]
     },
     "execution_count": 464,
     "metadata": {},
     "output_type": "execute_result"
    }
   ],
   "source": [
    "# create a array with the columns: Model, Training Score and Testing Score. Use testing and training scores variables\n",
    "# from previous models.\n",
    "models_data = {'Model': ['Logistic Regression', 'K-Nearest Neighbour', 'Support Vector Machine'],\n",
    "              'Training Score': [lr_train_score, knn_train_score, svm_train_score],\n",
    "              'Testing Score': [lr_test_score, knn_test_score, svm_test_score]\n",
    "              }\n",
    "\n",
    "# convert array to a pandas dataframe\n",
    "df_model = pd.DataFrame(models_data, columns = ['Model', 'Training Score', 'Testing Score'])\n",
    "\n",
    "# print the dataframe\n",
    "df_model"
   ]
  }
 ],
 "metadata": {
  "kernelspec": {
   "display_name": "Python 3",
   "language": "python",
   "name": "python3"
  },
  "language_info": {
   "codemirror_mode": {
    "name": "ipython",
    "version": 3
   },
   "file_extension": ".py",
   "mimetype": "text/x-python",
   "name": "python",
   "nbconvert_exporter": "python",
   "pygments_lexer": "ipython3",
   "version": "3.7.6"
  }
 },
 "nbformat": 4,
 "nbformat_minor": 4
}
